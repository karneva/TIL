{
 "cells": [
  {
   "cell_type": "markdown",
   "id": "b8cef6e2",
   "metadata": {},
   "source": [
    "## 파이썬 인터프리터 사용\n",
    "```Bash\n",
    "python -i\n",
    ">>> print(\"hello world\")\n",
    "hello world\n",
    ">>>\n",
    "```\n",
    "## .py 파일 호출\n",
    "```Bash\n",
    "$ python sample.py\n",
    "hello\n",
    "```"
   ]
  },
  {
   "cell_type": "markdown",
   "id": "84f33d46",
   "metadata": {},
   "source": [
    "## 표현식과 값\n",
    "### 표현식\n",
    "- 하나의 '값'으로 평가될 수 있는 모든 코드\n",
    "- 예: 3 + 5, '안녕하세요' 등\n",
    "### 평가\n",
    "- 표현식을 계산하여 그 결과인 '값'을 만들어내는 과정\n",
    "### 값\n",
    "- 표현식이 평가된 결과\n",
    "- 예: 8\n",
    "\n",
    "**표현식**을 **평가**하면 하나의 **값**이 됨\n",
    "**누구의 관점**으로 보느냐가 표현식인지 값인지를 결정함"
   ]
  },
  {
   "cell_type": "markdown",
   "id": "ad417a5b",
   "metadata": {},
   "source": [
    "## 변수\n",
    "- 값을 나중에 다시 사용하기 위해, 그 값에 붙여주는 고유한 이름\n",
    "- \"객체를 가리키는 이름\"\n",
    "## 메모리\n",
    "- 메모리의 모든 위치에는 그 위치를 고유하게 식별하는 메모리 주소가 존재\n",
    "- 컴퓨터가 특정 데이터 값을 정확히 찾아가기 위해 사용하는 기계적인 숫자 주소 \n",
    "- 고유한 ID(메모리 주소) + 타입(Type) + 값(Value)의 정보를 묶은 것을 객체(Object)라고 부름\n",
    "## 재할당\n",
    "- 이미 값이 할당된 변수에 새로운 값을 다시 할당하는 것"
   ]
  },
  {
   "cell_type": "code",
   "execution_count": null,
   "id": "2d901d12",
   "metadata": {},
   "outputs": [],
   "source": [
    "# 재할당 점검\n",
    "number = 10\n",
    "double = 2 * number\n",
    "print(double) # 20\n",
    "\n",
    "number = 5\n",
    "print(double) # ??"
   ]
  },
  {
   "cell_type": "markdown",
   "id": "da02893a",
   "metadata": {},
   "source": [
    "## 데이터 타입"
   ]
  }
 ],
 "metadata": {
  "language_info": {
   "name": "python"
  }
 },
 "nbformat": 4,
 "nbformat_minor": 5
}
