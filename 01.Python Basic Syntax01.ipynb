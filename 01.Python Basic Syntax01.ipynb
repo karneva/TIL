{
 "cells": [
  {
   "cell_type": "markdown",
   "id": "b8cef6e2",
   "metadata": {},
   "source": [
    "# 파이썬 인터프리터 사용\n",
    "```Bash\n",
    "python -i\n",
    ">>> print(\"hello world\")\n",
    "hello world\n",
    ">>>\n",
    "```\n",
    "## .py 파일 호출\n",
    "```Bash\n",
    "$ python sample.py\n",
    "hello\n",
    "```"
   ]
  },
  {
   "cell_type": "markdown",
   "id": "84f33d46",
   "metadata": {},
   "source": [
    "# 표현식과 값\n",
    "## 표현식\n",
    "- 하나의 '값'으로 평가될 수 있는 모든 코드\n",
    "- 예: 3 + 5, '안녕하세요' 등\n",
    "## 평가\n",
    "- 표현식을 계산하여 그 결과인 '값'을 만들어내는 과정\n",
    "## 값\n",
    "- 표현식이 평가된 결과\n",
    "- 예: 8\n",
    "\n",
    "**표현식**을 **평가**하면 하나의 **값**이 됨\n",
    "**누구의 관점**으로 보느냐가 표현식인지 값인지를 결정함"
   ]
  },
  {
   "cell_type": "markdown",
   "id": "ad417a5b",
   "metadata": {},
   "source": []
  }
 ],
 "metadata": {
  "language_info": {
   "name": "python"
  }
 },
 "nbformat": 4,
 "nbformat_minor": 5
}
