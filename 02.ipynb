{
 "cells": [
  {
   "cell_type": "code",
   "execution_count": null,
   "id": "274453e6",
   "metadata": {},
   "outputs": [],
   "source": [
    "# 컬렉션 -> 자료형\n",
    "# 물리적인 데이터 저장소에 데이터를 저장하는데, 잘, 편리하게 꺼내쓸려 저장을 한다.\n",
    "# 여러 종류의 형태로 나눠놨어요. 누가? 파이썬이.\n",
    "# 컬렉션은 여러 고유 성격을 띄고 있어요.\n",
    "# str, list, tuple, range, set, dict 등"
   ]
  },
  {
   "cell_type": "code",
   "execution_count": 1,
   "id": "57cce6ab",
   "metadata": {},
   "outputs": [
    {
     "name": "stdout",
     "output_type": "stream",
     "text": [
      "점수 수정 전 student_scores[1]:92\n",
      "점수 수정 후 student_scores[1]:100\n"
     ]
    }
   ],
   "source": [
    "# 리스트(List): 가장 유연한 순서 지정 가능한 컬렉션\n",
    "\"\"\"\n",
    "- 주요 특성\n",
    "    - 순서 존재: 요소들이 순서대로 저장된다. 인덱싱이 가능\n",
    "    - 가변성: 언제든지 요소를 수정 추가, 삭제할 수 있음\n",
    "    - 중복 허용: 동일한 값을 여러 번 포함 시킬 수 있음\n",
    "\"\"\"\n",
    "\n",
    "# student_scores = [] # 빈 리스트로 초기화\n",
    "#                  0   1   2   3\n",
    "student_scores = [85, 92, 78, 65] # 초기값을 리스트로 초기화\n",
    "student_scores[1] # 92 값에 접근\n",
    "student_1 = student_scores[1] # 92 값에 접근하여 할당\n",
    "print(f'점수 수정 전 student_scores[1]:{student_scores[1]}')\n",
    "\n",
    "student_scores[1] = 100 # 리스트라 변경 가능\n",
    "print(f'점수 수정 후 student_scores[1]:{student_scores[1]}')"
   ]
  },
  {
   "cell_type": "code",
   "execution_count": 2,
   "id": "7cfcc95e",
   "metadata": {},
   "outputs": [
    {
     "data": {
      "text/plain": [
       "[1, 2, 3, 4, 5, 6, 7, 8, 9]"
      ]
     },
     "execution_count": 2,
     "metadata": {},
     "output_type": "execute_result"
    }
   ],
   "source": [
    "# 튜플\n",
    "\n",
    "# 컬렉션 + 시퀀스\n",
    "# 불변 자료형\n",
    "# () 를 사용해서 초기화한다.\n",
    "\n",
    "# 순서가 존재한다.\n",
    "# 불변성\n",
    "# 중복 허용\n",
    "\n",
    "# human error 방지, 특별한 목적성을 가짐\n",
    "\n",
    "# 튜플로 선언했기 때문에 수정 시 에러 발생\n",
    "db_credientals = (\"localhost\", 5432, \"admin\", \"password112\")\n",
    "\n",
    "# range도 마찬가지고 시퀀스 생성기 (효율적이다.)\n",
    "# range(start, stop, step)\n",
    "\"\"\"\n",
    "- stop: 시퀀스에 포함되지 않는다.\n",
    "- step: 양수는 증가, 음수는 감소\n",
    "\"\"\" \n",
    "list(range(1, 10))"
   ]
  },
  {
   "cell_type": "code",
   "execution_count": null,
   "id": "84f4e898",
   "metadata": {},
   "outputs": [],
   "source": [
    "# 딕셔너리 \n",
    "\n",
    "# 키 - 값: 쌍으로 이루어진 자료형\n",
    "# 키는 불변형: 문자열, 정수, 실수, 튜플\n",
    "\n",
    "new_dict = {}\n"
   ]
  },
  {
   "cell_type": "code",
   "execution_count": 3,
   "id": "dfd2b17f",
   "metadata": {},
   "outputs": [
    {
     "name": "stdout",
     "output_type": "stream",
     "text": [
      "중복 제거된 방문자 카운트: {'user2', 'user4', 'user3', 'user1'}\n",
      "중복 제거된 방문자 카운트: {'user2', 'user4', 'user3', 'user1'}\n"
     ]
    }
   ],
   "source": [
    "# set 자료형\n",
    "# 순서가 없는 자료형\n",
    "# 중복을 허용하지 않는다.\n",
    "# 가변성을 띄고 있다.\n",
    "\n",
    "set() # 사용해서 set 자료형을 초기화한다.\n",
    "\n",
    "# 방문자를 체크 해보자. (한 사람이 중복 방문 => 중복 카운트)\n",
    "unique_visitors = {'user1', 'user1', 'user1', 'user1', 'user2', 'user3', 'user3', 'user4',}\n",
    "unique_visitors_list = ['user1', 'user1', 'user1', 'user1', 'user2', 'user3', 'user3', 'user4',]\n",
    "print(f'중복 제거된 방문자 카운트: {unique_visitors}')\n",
    "print(f'중복 제거된 방문자 카운트: {set(unique_visitors_list)}')"
   ]
  },
  {
   "cell_type": "code",
   "execution_count": 7,
   "id": "0a9a9057",
   "metadata": {},
   "outputs": [
    {
     "name": "stdout",
     "output_type": "stream",
     "text": [
      "True\n",
      "True\n",
      "100\n"
     ]
    }
   ],
   "source": [
    "str_1 = 'Python'\n",
    "str_2 = 'Python' \n",
    "\n",
    "print(str_1 == str_2) # True\n",
    "print(str_1 is str_2) # True\n",
    "\n",
    "a = [1, 2, 3]\n",
    "b = a\n",
    "\n",
    "b[0] = 100\n",
    "print(a[0])\n",
    "# b = [1, 2, 3]\n",
    "\n",
    "# print(a == b) # True\n",
    "# print(a is b) # False, list가 가변형이기 때문에"
   ]
  },
  {
   "cell_type": "code",
   "execution_count": null,
   "id": "1d2903a5",
   "metadata": {},
   "outputs": [],
   "source": [
    "# 평가 == 0000으로 취급되는 것\n",
    "# Falsy && Truty\n",
    "\"\"\"\n",
    "- 거짓으로 취급되는 값\n",
    "    False, 0, 빈 문자열, 빈 리스트, None => 비어있다, 없다라는 느낌이 들면\n",
    "- 참으로 취급되는 값\n",
    "    True 그리고 '거짓'이 아닌 모든 값들 (1, 10, \"hello\", [1])\n",
    "\"\"\"\n",
    "\n",
    "# 입력값을 받았습니다!\n",
    "if a is not []: # -> 거짓이 아니라면 로직을 짤 거라는 plan을 세울 수 있음\n",
    "    pass"
   ]
  },
  {
   "cell_type": "code",
   "execution_count": null,
   "id": "de74b7bd",
   "metadata": {},
   "outputs": [],
   "source": [
    "result_0 = 0 and \"결과값\" # 0\n",
    "\n",
    "result_1 = \"활성\" and \"데이터\" # 데이터\n",
    "\n",
    "# 기본값 설정\n",
    "\n",
    "default = \"\" or \"guest\"\n",
    "\n",
    "resul_2 = None or [] # []\n",
    "\n",
    "# 단축 평가는 코드의 실행을 최적화하는데 사용이 됨(불필요한 연산을 줄임), 코드 자체가 간결해지는 효과도 불러올 수 있음"
   ]
  }
 ],
 "metadata": {
  "kernelspec": {
   "display_name": "Python 3",
   "language": "python",
   "name": "python3"
  },
  "language_info": {
   "codemirror_mode": {
    "name": "ipython",
    "version": 3
   },
   "file_extension": ".py",
   "mimetype": "text/x-python",
   "name": "python",
   "nbconvert_exporter": "python",
   "pygments_lexer": "ipython3",
   "version": "3.11.9"
  }
 },
 "nbformat": 4,
 "nbformat_minor": 5
}
