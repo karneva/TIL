{
 "cells": [
  {
   "cell_type": "markdown",
   "id": "29cdb262",
   "metadata": {},
   "source": [
    "함수 - 구조화 - 프로그램"
   ]
  },
  {
   "cell_type": "code",
   "execution_count": null,
   "id": "245667e5",
   "metadata": {},
   "outputs": [],
   "source": [
    "# 함수는 반복적인 작업을 수행할 때 함수를 만든다.\n",
    "# 재사용 가능한 코드의 묶음을 구성할 수 있기 때문이다."
   ]
  },
  {
   "cell_type": "code",
   "execution_count": null,
   "id": "db961afc",
   "metadata": {},
   "outputs": [],
   "source": [
    "# 함수의 기본적인 구조\n",
    "\n",
    "def greetings(user_name, gender): # 매개변수(parameter)\n",
    "    \"\"\"\n",
    "    user name 이라는 parameter를 받아 콘솔에 출력하는 함수\n",
    "    \"\"\"\n",
    "    print(f'안녕하세요, 제 이름은 {user_name}입니다.')\n",
    "\n",
    "# 함수 호출 및 인자 전달\n",
    "greetings('James', 'male') # 인자(argument) 위치 인자 전달 방식\n",
    "greetings(user_name='James', gender='male') # 인자(argument) 키워드 인자 전달 방식\n",
    "# 단, 키워드 인자는 반드시 위치 인자 뒤에 위치해야 한다."
   ]
  },
  {
   "cell_type": "code",
   "execution_count": null,
   "id": "716be2d8",
   "metadata": {},
   "outputs": [
    {
     "ename": "TypeError",
     "evalue": "unsupported operand type(s) for +: 'int' and 'list'",
     "output_type": "error",
     "traceback": [
      "\u001b[31m---------------------------------------------------------------------------\u001b[39m",
      "\u001b[31mTypeError\u001b[39m                                 Traceback (most recent call last)",
      "\u001b[36mCell\u001b[39m\u001b[36m \u001b[39m\u001b[32mIn[1]\u001b[39m\u001b[32m, line 10\u001b[39m\n\u001b[32m      6\u001b[39m \u001b[38;5;28;01mdef\u001b[39;00m\u001b[38;5;250m \u001b[39m\u001b[34mcalculate_average\u001b[39m(*numbers):\n\u001b[32m      7\u001b[39m     \u001b[38;5;66;03m# numbers가 0개 이상일 때만 계산을 수행한다.\u001b[39;00m\n\u001b[32m      8\u001b[39m     \u001b[38;5;28;01mreturn\u001b[39;00m \u001b[38;5;28msum\u001b[39m(numbers) / \u001b[38;5;28mlen\u001b[39m(numbers)\n\u001b[32m---> \u001b[39m\u001b[32m10\u001b[39m \u001b[38;5;28mprint\u001b[39m(\u001b[43mcalculate_average\u001b[49m\u001b[43m(\u001b[49m\u001b[43m[\u001b[49m\u001b[32;43m100\u001b[39;49m\u001b[43m,\u001b[49m\u001b[43m \u001b[49m\u001b[32;43m40\u001b[39;49m\u001b[43m,\u001b[49m\u001b[43m \u001b[49m\u001b[32;43m56\u001b[39;49m\u001b[43m,\u001b[49m\u001b[43m \u001b[49m\u001b[32;43m45\u001b[39;49m\u001b[43m,\u001b[49m\u001b[43m \u001b[49m\u001b[32;43m88\u001b[39;49m\u001b[43m]\u001b[49m\u001b[43m)\u001b[49m)\n",
      "\u001b[36mCell\u001b[39m\u001b[36m \u001b[39m\u001b[32mIn[1]\u001b[39m\u001b[32m, line 8\u001b[39m, in \u001b[36mcalculate_average\u001b[39m\u001b[34m(*numbers)\u001b[39m\n\u001b[32m      6\u001b[39m \u001b[38;5;28;01mdef\u001b[39;00m\u001b[38;5;250m \u001b[39m\u001b[34mcalculate_average\u001b[39m(*numbers):\n\u001b[32m      7\u001b[39m     \u001b[38;5;66;03m# numbers가 0개 이상일 때만 계산을 수행한다.\u001b[39;00m\n\u001b[32m----> \u001b[39m\u001b[32m8\u001b[39m     \u001b[38;5;28;01mreturn\u001b[39;00m \u001b[38;5;28;43msum\u001b[39;49m\u001b[43m(\u001b[49m\u001b[43mnumbers\u001b[49m\u001b[43m)\u001b[49m / \u001b[38;5;28mlen\u001b[39m(numbers)\n",
      "\u001b[31mTypeError\u001b[39m: unsupported operand type(s) for +: 'int' and 'list'"
     ]
    }
   ],
   "source": [
    "# 유연, 다양한 인자 전달 방식 \n",
    "\n",
    "# 정해지지 않은 인자를 넘기고 싶을 때 / 파라미터를 받고 싶을 때\n",
    "# 함수를 정의할 때 매개변수 앞에 '*' 붙여 사용하면 여러 개의 인자를 'tuple'로 묶어 처리해준다.\n",
    "\n",
    "def calculate_average(*numbers):\n",
    "    # numbers가 0개 이상일 때만 계산을 수행한다.\n",
    "    return sum(numbers) / len(numbers)\n",
    "\n",
    "print(calculate_average(100, 40, 56, 45, 88))"
   ]
  }
 ],
 "metadata": {
  "kernelspec": {
   "display_name": "Python 3",
   "language": "python",
   "name": "python3"
  },
  "language_info": {
   "codemirror_mode": {
    "name": "ipython",
    "version": 3
   },
   "file_extension": ".py",
   "mimetype": "text/x-python",
   "name": "python",
   "nbconvert_exporter": "python",
   "pygments_lexer": "ipython3",
   "version": "3.11.9"
  }
 },
 "nbformat": 4,
 "nbformat_minor": 5
}
